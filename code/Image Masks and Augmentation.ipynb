{
 "cells": [
  {
   "cell_type": "code",
   "execution_count": 1,
   "metadata": {},
   "outputs": [],
   "source": [
    "import os\n",
    "import cv2\n",
    "import matplotlib.pyplot as plt\n",
    "from PIL import Image\n",
    "import json\n",
    "import numpy as np\n",
    "import imgaug as ia\n",
    "from PIL import Image \n",
    "# import ImageEnhance\n",
    "import ImageFilter\n",
    "# from scipy.misc import imsave\n",
    "\n"
   ]
  },
  {
   "cell_type": "code",
   "execution_count": 2,
   "metadata": {},
   "outputs": [],
   "source": [
    "from imgaug import augmenters as iaa"
   ]
  },
  {
   "cell_type": "code",
   "execution_count": 3,
   "metadata": {},
   "outputs": [
    {
     "ename": "NameError",
     "evalue": "name 'maskt' is not defined",
     "output_type": "error",
     "traceback": [
      "\u001b[1;31m---------------------------------------------------------------------------\u001b[0m",
      "\u001b[1;31mNameError\u001b[0m                                 Traceback (most recent call last)",
      "\u001b[1;32m<ipython-input-3-ca4cf4b24400>\u001b[0m in \u001b[0;36m<module>\u001b[1;34m\u001b[0m\n\u001b[1;32m----> 1\u001b[1;33m \u001b[0mos\u001b[0m\u001b[1;33m.\u001b[0m\u001b[0mmkdir\u001b[0m\u001b[1;33m(\u001b[0m\u001b[0mmaskt\u001b[0m\u001b[1;33m)\u001b[0m\u001b[1;33m\u001b[0m\u001b[1;33m\u001b[0m\u001b[0m\n\u001b[0m",
      "\u001b[1;31mNameError\u001b[0m: name 'maskt' is not defined"
     ]
    }
   ],
   "source": [
    "os.mkdir(maskt)"
   ]
  },
  {
   "cell_type": "code",
   "execution_count": 3,
   "metadata": {},
   "outputs": [],
   "source": [
    "def plot_pair(images, gray=False):\n",
    "\n",
    "    fig, axes = plt.subplots(nrows=1, ncols=2, sharex=False, sharey=False, figsize=(10,8))\n",
    "    i=0\n",
    "    \n",
    "    for y in range(2):\n",
    "        if gray:\n",
    "            axes[y].imshow(images[i], cmap='gray')\n",
    "        else:\n",
    "            axes[y].imshow(images[i])\n",
    "        axes[y].get_xaxis().set_visible(False)\n",
    "        axes[y].get_yaxis().set_visible(False)\n",
    "        i+=1\n",
    "    \n",
    "    plt.show()"
   ]
  },
  {
   "cell_type": "code",
   "execution_count": 4,
   "metadata": {},
   "outputs": [],
   "source": [
    "def get_poly(ann_path):\n",
    "    \n",
    "    with open(ann_path) as handle:\n",
    "        data = json.load(handle)\n",
    "    \n",
    "    shape_dicts = data['shapes']\n",
    "    \n",
    "    return shape_dicts"
   ]
  },
  {
   "cell_type": "code",
   "execution_count": 5,
   "metadata": {},
   "outputs": [],
   "source": [
    "def create_binary_masks(im, shape_dicts):\n",
    "    \n",
    "    blank = np.zeros(shape=(im.shape[0], im.shape[1]), dtype=np.float32)\n",
    "    \n",
    "    for shape in shape_dicts:\n",
    "        points = np.array(shape['points'], dtype=np.int32)\n",
    "        cv2.fillPoly(blank, [points], 255)\n",
    "        \n",
    "    return blank"
   ]
  },
  {
   "cell_type": "code",
   "execution_count": 13,
   "metadata": {},
   "outputs": [],
   "source": [
    "path = '\"C:\\Users\\DELL\\Desktop\\New folder (18)\\Minor_dataset\\Final_dataset\\mask_im\"'"
   ]
  },
  {
   "cell_type": "code",
   "execution_count": null,
   "metadata": {},
   "outputs": [],
   "source": [
    "import os\n",
    "import cv2\n",
    "import json\n",
    "import numpy as np \n",
    "\n",
    "source_folder = os.path.join(os.getcwd(), \"images\")\n",
    "json_path = \"maskGen_json.json\"                     # Relative to root directory\n",
    "count = 0                                           # Count of total images saved\n",
    "file_bbs = {}                                       # Dictionary containing polygon coordinates for mask\n",
    "MASK_WIDTH = 256\t\t\t\t    # Dimensions should match those of ground truth image\n",
    "MASK_HEIGHT = 256\t\t\t\t\t\t\t\t\t\n",
    "\n",
    "# Read JSON file\n",
    "with open(json_path) as f:\n",
    "  data = json.load(f)\n",
    "\n",
    "# Extract X and Y coordinates if available and update dictionary\n",
    "def add_to_dict(data, itr, key, count):\n",
    "    try:\n",
    "\tx_points = data[itr][\"regions\"][count][\"shape_attributes\"][\"all_points_x\"]\n",
    "\ty_points = data[itr][\"regions\"][count][\"shape_attributes\"][\"all_points_y\"]\n",
    "    except:\n",
    "        print(\"No BB. Skipping\", key)\n",
    "        return\n",
    "    \n",
    "    all_points = []\n",
    "    for i, x in enumerate(x_points):\n",
    "        all_points.append([x, y_points[i]])\n",
    "    \n",
    "    file_bbs[key] = all_points\n",
    "  \n",
    "for itr in data:\n",
    "    file_name_json = data[itr][\"filename\"]\n",
    "    sub_count = 0               # Contains count of masks for a single ground truth image\n",
    "    \n",
    "    if len(data[itr][\"regions\"]) > 1:\n",
    "        for _ in range(len(data[itr][\"regions\"])):\n",
    "            key = file_name_json[:-4] + \"*\" + str(sub_count+1)\n",
    "            add_to_dict(data, itr, key, sub_count)\n",
    "            sub_count += 1\n",
    "    else:\n",
    "        add_to_dict(data, itr, file_name_json[:-4], 0)\n",
    "\n",
    "\t\t\t\n",
    "print(\"\\nDict size: \", len(file_bbs))\n",
    "\n",
    "for file_name in os.listdir(source_folder):\n",
    "    to_save_folder = os.path.join(source_folder, file_name[:-4])\n",
    "    image_folder = os.path.join(to_save_folder, \"images\")\n",
    "    mask_folder = os.path.join(to_save_folder, \"masks\")\n",
    "    curr_img = os.path.join(source_folder, file_name)\n",
    "    \n",
    "    # make folders and copy image to new location\n",
    "    os.mkdir(to_save_folder)\n",
    "    os.mkdir(image_folder)\n",
    "    os.mkdir(mask_folder)\n",
    "    os.rename(curr_img, os.path.join(image_folder, file_name))\n",
    "        \n",
    "# For each entry in dictionary, generate mask and save in correponding \n",
    "# folder\n",
    "for itr in file_bbs:\n",
    "    num_masks = itr.split(\"*\")\n",
    "    to_save_folder = os.path.join(source_folder, num_masks[0])\n",
    "    mask_folder = os.path.join(to_save_folder, \"masks\")\n",
    "    mask = np.zeros((MASK_WIDTH, MASK_HEIGHT))\n",
    "    try:\n",
    "        arr = np.array(file_bbs[itr])\n",
    "    except:\n",
    "        print(\"Not found:\", itr)\n",
    "        continue\n",
    "    count += 1\n",
    "    cv2.fillPoly(mask, [arr], color=(255))\n",
    "    \n",
    "    if len(num_masks) > 1:\n",
    "    \tcv2.imwrite(os.path.join(mask_folder, itr.replace(\"*\", \"_\") + \".png\") , mask)    \n",
    "    else:\n",
    "        cv2.imwrite(os.path.join(mask_folder, itr + \".png\") , mask)\n",
    "        \n",
    "print(\"Images saved:\", count)"
   ]
  },
  {
   "cell_type": "code",
   "execution_count": 11,
   "metadata": {},
   "outputs": [],
   "source": [
    "source_folder = os.path.join(os.getcwd(), \"imagess\")"
   ]
  },
  {
   "cell_type": "code",
   "execution_count": 12,
   "metadata": {},
   "outputs": [],
   "source": [
    "for file_name in os.listdir(source_folder):\n",
    "    to_save_folder = os.path.join(source_folder, file_name[:-4])\n",
    "    image_folder = os.path.join(to_save_folder, \"im\")\n",
    "    mask_folder = os.path.join(to_save_folder, \"masks\")\n",
    "    curr_img = os.path.join(source_folder, file_name)\n",
    "    \n",
    "    # make folders and copy image to new location\n",
    "    os.mkdir(to_save_folder)\n",
    "    os.mkdir(image_folder)\n",
    "    os.mkdir(mask_folder)\n",
    "    os.rename(curr_img, os.path.join(image_folder, file_name))"
   ]
  },
  {
   "cell_type": "code",
   "execution_count": null,
   "metadata": {},
   "outputs": [],
   "source": []
  },
  {
   "cell_type": "code",
   "execution_count": null,
   "metadata": {},
   "outputs": [],
   "source": []
  },
  {
   "cell_type": "code",
   "execution_count": null,
   "metadata": {},
   "outputs": [],
   "source": []
  },
  {
   "cell_type": "code",
   "execution_count": 26,
   "metadata": {},
   "outputs": [],
   "source": [
    "image_list = sorted(os.listdir('images_jpg'), key=lambda x: int(x.split('.')[0]))\n",
    "annot_list = sorted(os.listdir('mask_jpg'), key=lambda x: int(x.split('.')[0]))\n"
   ]
  },
  {
   "cell_type": "code",
   "execution_count": 8,
   "metadata": {},
   "outputs": [
    {
     "name": "stdout",
     "output_type": "stream",
     "text": [
      "['63.jpeg', '64.jpeg']\n"
     ]
    }
   ],
   "source": [
    "import os\n",
    "filelist=os.listdir('images_jpg')\n",
    "for fichier in filelist[:]: # filelist[:] makes a copy of filelist.\n",
    "    if not(fichier.endswith(\"jpeg\")):\n",
    "        filelist.remove(fichier)\n",
    "print(filelist)"
   ]
  },
  {
   "cell_type": "markdown",
   "metadata": {},
   "source": [
    "### Create Masks for Binary Classification"
   ]
  },
  {
   "cell_type": "code",
   "execution_count": 1,
   "metadata": {
    "scrolled": true
   },
   "outputs": [
    {
     "ename": "NameError",
     "evalue": "name 'os' is not defined",
     "output_type": "error",
     "traceback": [
      "\u001b[1;31m---------------------------------------------------------------------------\u001b[0m",
      "\u001b[1;31mNameError\u001b[0m                                 Traceback (most recent call last)",
      "\u001b[1;32m<ipython-input-1-3c491da3562f>\u001b[0m in \u001b[0;36m<module>\u001b[1;34m\u001b[0m\n\u001b[1;32m----> 1\u001b[1;33m \u001b[0mimage_list\u001b[0m \u001b[1;33m=\u001b[0m \u001b[0msorted\u001b[0m\u001b[1;33m(\u001b[0m\u001b[0mos\u001b[0m\u001b[1;33m.\u001b[0m\u001b[0mlistdir\u001b[0m\u001b[1;33m(\u001b[0m\u001b[1;34m'image_256'\u001b[0m\u001b[1;33m)\u001b[0m\u001b[1;33m,\u001b[0m \u001b[0mkey\u001b[0m\u001b[1;33m=\u001b[0m\u001b[1;32mlambda\u001b[0m \u001b[0mx\u001b[0m\u001b[1;33m:\u001b[0m \u001b[0mint\u001b[0m\u001b[1;33m(\u001b[0m\u001b[0mx\u001b[0m\u001b[1;33m.\u001b[0m\u001b[0msplit\u001b[0m\u001b[1;33m(\u001b[0m\u001b[1;34m'.'\u001b[0m\u001b[1;33m)\u001b[0m\u001b[1;33m[\u001b[0m\u001b[1;36m0\u001b[0m\u001b[1;33m]\u001b[0m\u001b[1;33m)\u001b[0m\u001b[1;33m)\u001b[0m\u001b[1;33m\u001b[0m\u001b[1;33m\u001b[0m\u001b[0m\n\u001b[0m\u001b[0;32m      2\u001b[0m \u001b[0mannot_list\u001b[0m \u001b[1;33m=\u001b[0m \u001b[0msorted\u001b[0m\u001b[1;33m(\u001b[0m\u001b[0mos\u001b[0m\u001b[1;33m.\u001b[0m\u001b[0mlistdir\u001b[0m\u001b[1;33m(\u001b[0m\u001b[1;34m'mask_256'\u001b[0m\u001b[1;33m)\u001b[0m\u001b[1;33m,\u001b[0m \u001b[0mkey\u001b[0m\u001b[1;33m=\u001b[0m\u001b[1;32mlambda\u001b[0m \u001b[0mx\u001b[0m\u001b[1;33m:\u001b[0m \u001b[0mint\u001b[0m\u001b[1;33m(\u001b[0m\u001b[0mx\u001b[0m\u001b[1;33m.\u001b[0m\u001b[0msplit\u001b[0m\u001b[1;33m(\u001b[0m\u001b[1;34m'.'\u001b[0m\u001b[1;33m)\u001b[0m\u001b[1;33m[\u001b[0m\u001b[1;36m0\u001b[0m\u001b[1;33m]\u001b[0m\u001b[1;33m)\u001b[0m\u001b[1;33m)\u001b[0m\u001b[1;33m\u001b[0m\u001b[1;33m\u001b[0m\u001b[0m\n\u001b[0;32m      3\u001b[0m \u001b[1;33m\u001b[0m\u001b[0m\n\u001b[0;32m      4\u001b[0m \u001b[1;32mfor\u001b[0m \u001b[0mim_fn\u001b[0m \u001b[1;33m,\u001b[0m\u001b[0mann_fn\u001b[0m \u001b[1;32min\u001b[0m \u001b[0mzip\u001b[0m\u001b[1;33m(\u001b[0m\u001b[0mimage_list\u001b[0m\u001b[1;33m,\u001b[0m\u001b[0mannot_list\u001b[0m\u001b[1;33m)\u001b[0m\u001b[1;33m:\u001b[0m\u001b[1;33m\u001b[0m\u001b[1;33m\u001b[0m\u001b[0m\n\u001b[0;32m      5\u001b[0m \u001b[1;33m\u001b[0m\u001b[0m\n",
      "\u001b[1;31mNameError\u001b[0m: name 'os' is not defined"
     ]
    }
   ],
   "source": [
    "image_list = sorted(os.listdir('image_256'), key=lambda x: int(x.split('.')[0]))\n",
    "annot_list = sorted(os.listdir('mask_256'), key=lambda x: int(x.split('.')[0]))\n",
    "\n",
    "for im_fn ,ann_fn in zip(image_list,annot_list):\n",
    "    \n",
    "    im = cv2.imread(os.path.join('image_256', im_fn))\n",
    "    \n",
    "    ann_path = os.path.join('mask_256', ann_fn)\n",
    "    shape_dicts = get_poly(ann_path)\n",
    "    im_binary = create_binary_masks(im, shape_dicts)\n",
    "    \n",
    "    \n",
    "    cv2.imwrite(os.path.join(path , im_fn), im_binary)\n",
    "    \n",
    "    \n",
    "        \n",
    "    \n",
    "    \n",
    "#     cv2.fillPoly(blank, [label2poly[label]], (hues[label], 255, 255))\n",
    "    \n",
    "    \n",
    "    plot_pair([im, im_binary], gray=True)\n",
    "    plt.show()\n",
    "#     print(im_fn,ann_fn)\n",
    "    "
   ]
  },
  {
   "cell_type": "markdown",
   "metadata": {},
   "source": [
    "### Create Masks for Multi Classification"
   ]
  },
  {
   "cell_type": "code",
   "execution_count": 6,
   "metadata": {},
   "outputs": [
    {
     "name": "stdout",
     "output_type": "stream",
     "text": [
      "['Onion1', 'Onion2', 'Onion3', 'Weed11', 'Weed12', 'Weed13', 'Weed21', 'Weed22', 'Weed23', 'Weed24', 'Weed31', 'Weed32', 'Weed33', 'Weed34']\n"
     ]
    }
   ],
   "source": [
    "hues = {'Onion1': 0,\n",
    "        'Onion2': 0,\n",
    "        'Onion3': 0,\n",
    "        'Weed11': 60,\n",
    "        'Weed12': 60,\n",
    "        'Weed13': 60,\n",
    "        'Weed21': 60,\n",
    "        'Weed22': 60,\n",
    "        'Weed23': 60,\n",
    "        'Weed24': 60,\n",
    "        'Weed31': 60,\n",
    "        'Weed32': 60,\n",
    "        'Weed33': 60,\n",
    "        'Weed34': 60,\n",
    "        \n",
    "        }\n",
    "# \n",
    "labels = sorted(hues.keys())\n",
    "print(labels)"
   ]
  },
  {
   "cell_type": "code",
   "execution_count": null,
   "metadata": {},
   "outputs": [],
   "source": []
  },
  {
   "cell_type": "markdown",
   "metadata": {},
   "source": [
    "To set the hues you want, refer to this pi chart. These are the values used by OpenCV."
   ]
  },
  {
   "cell_type": "markdown",
   "metadata": {},
   "source": [
    "![hsv](docs/images/hsv.png)"
   ]
  },
  {
   "cell_type": "code",
   "execution_count": 7,
   "metadata": {},
   "outputs": [],
   "source": [
    "def create_multi_masks(im, shape_dicts):\n",
    "    \n",
    "    channels = []\n",
    "    cls = [x['label'] for x in shape_dicts]\n",
    "    poly = [np.array(x['points'], dtype=np.int32) for x in shape_dicts]\n",
    "    label2poly = dict(zip(cls, poly))\n",
    "    background = np.zeros(shape=im.shape, dtype=np.float32)\n",
    "\n",
    "    for i, label in enumerate(labels):\n",
    "        \n",
    "        blank = np.zeros(shape=im.shape, dtype=np.float32)\n",
    "        \n",
    "        if label in cls:\n",
    "            cv2.fillPoly(blank, [label2poly[label]], 255)\n",
    "            cv2.fillPoly(background, [label2poly[label]], 255)\n",
    "            \n",
    "        channels.append(blank)\n",
    "    _, thresh = cv2.threshold(background, 127, 255, cv2.THRESH_BINARY_INV)\n",
    "    channels.append(thresh)\n",
    "\n",
    "    Y = np.stack(channels, axis=2)\n",
    "    return Y"
   ]
  },
  {
   "cell_type": "code",
   "execution_count": 2,
   "metadata": {},
   "outputs": [
    {
     "ename": "NameError",
     "evalue": "name 'image_list' is not defined",
     "output_type": "error",
     "traceback": [
      "\u001b[1;31m---------------------------------------------------------------------------\u001b[0m",
      "\u001b[1;31mNameError\u001b[0m                                 Traceback (most recent call last)",
      "\u001b[1;32m<ipython-input-2-6c1697f16664>\u001b[0m in \u001b[0;36m<module>\u001b[1;34m\u001b[0m\n\u001b[1;32m----> 1\u001b[1;33m \u001b[1;32mfor\u001b[0m \u001b[0mim_fn\u001b[0m\u001b[1;33m,\u001b[0m \u001b[0mann_fn\u001b[0m \u001b[1;32min\u001b[0m \u001b[0mzip\u001b[0m\u001b[1;33m(\u001b[0m\u001b[0mimage_list\u001b[0m\u001b[1;33m,\u001b[0m \u001b[0mannot_list\u001b[0m\u001b[1;33m)\u001b[0m\u001b[1;33m:\u001b[0m\u001b[1;33m\u001b[0m\u001b[1;33m\u001b[0m\u001b[0m\n\u001b[0m\u001b[0;32m      2\u001b[0m \u001b[1;33m\u001b[0m\u001b[0m\n\u001b[0;32m      3\u001b[0m     \u001b[0mim\u001b[0m \u001b[1;33m=\u001b[0m \u001b[0mcv2\u001b[0m\u001b[1;33m.\u001b[0m\u001b[0mimread\u001b[0m\u001b[1;33m(\u001b[0m\u001b[0mos\u001b[0m\u001b[1;33m.\u001b[0m\u001b[0mpath\u001b[0m\u001b[1;33m.\u001b[0m\u001b[0mjoin\u001b[0m\u001b[1;33m(\u001b[0m\u001b[1;34m'images'\u001b[0m\u001b[1;33m,\u001b[0m \u001b[0mim_fn\u001b[0m\u001b[1;33m)\u001b[0m\u001b[1;33m,\u001b[0m \u001b[1;36m0\u001b[0m\u001b[1;33m)\u001b[0m\u001b[1;33m\u001b[0m\u001b[1;33m\u001b[0m\u001b[0m\n\u001b[0;32m      4\u001b[0m     \u001b[0mann_path\u001b[0m \u001b[1;33m=\u001b[0m \u001b[0mos\u001b[0m\u001b[1;33m.\u001b[0m\u001b[0mpath\u001b[0m\u001b[1;33m.\u001b[0m\u001b[0mjoin\u001b[0m\u001b[1;33m(\u001b[0m\u001b[1;34m'mask'\u001b[0m\u001b[1;33m,\u001b[0m \u001b[0mann_fn\u001b[0m\u001b[1;33m)\u001b[0m\u001b[1;33m\u001b[0m\u001b[1;33m\u001b[0m\u001b[0m\n\u001b[0;32m      5\u001b[0m     \u001b[0mshape_dicts\u001b[0m \u001b[1;33m=\u001b[0m \u001b[0mget_poly\u001b[0m\u001b[1;33m(\u001b[0m\u001b[0mann_path\u001b[0m\u001b[1;33m)\u001b[0m\u001b[1;33m\u001b[0m\u001b[1;33m\u001b[0m\u001b[0m\n",
      "\u001b[1;31mNameError\u001b[0m: name 'image_list' is not defined"
     ]
    }
   ],
   "source": [
    "for im_fn, ann_fn in zip(image_list, annot_list):\n",
    "    \n",
    "    im = cv2.imread(os.path.join('images', im_fn), 0)\n",
    "    ann_path = os.path.join('mask', ann_fn)\n",
    "    shape_dicts = get_poly(ann_path)\n",
    "    Y = create_multi_masks(im, shape_dicts)\n",
    "    break\n",
    "    \n",
    "for i in range(len(im)):\n",
    "    mask = Y[:,:,i]\n",
    "    plt.imshow(mask, cmap='gray')\n",
    "    plt.show()"
   ]
  },
  {
   "cell_type": "markdown",
   "metadata": {},
   "source": [
    "### Hue Masks"
   ]
  },
  {
   "cell_type": "code",
   "execution_count": 8,
   "metadata": {},
   "outputs": [],
   "source": [
    "def draw_multi_masks(im, shape_dicts):\n",
    "    \n",
    "    blank = np.zeros(shape=im.shape, dtype=np.uint8)\n",
    "    \n",
    "    channels = []\n",
    "    cls = [x['label'] for x in shape_dicts]\n",
    "    poly = [np.array(x['points'], dtype=np.int32) for x in shape_dicts]\n",
    "    label2poly = dict(zip(cls, poly))\n",
    "\n",
    "    for i, label in enumerate(labels):\n",
    "        \n",
    "        if label in cls:\n",
    "            cv2.fillPoly(blank, [label2poly[label]], (hues[label], 255, 255))\n",
    "            \n",
    "    return cv2.cvtColor(blank, cv2.COLOR_HSV2RGB)"
   ]
  },
  {
   "cell_type": "code",
   "execution_count": 3,
   "metadata": {
    "scrolled": false
   },
   "outputs": [
    {
     "ename": "SyntaxError",
     "evalue": "(unicode error) 'unicodeescape' codec can't decode bytes in position 3-4: truncated \\UXXXXXXXX escape (<ipython-input-3-de9b33499265>, line 3)",
     "output_type": "error",
     "traceback": [
      "\u001b[1;36m  File \u001b[1;32m\"<ipython-input-3-de9b33499265>\"\u001b[1;36m, line \u001b[1;32m3\u001b[0m\n\u001b[1;33m    im = cv2.imread(os.path.join('\"C:\\Users\\DELL\\Desktop\\New folder (18)\\Minor_dataset\\Final_dataset\\imagesss\"', im_fn), 1)\u001b[0m\n\u001b[1;37m                                                                                                               ^\u001b[0m\n\u001b[1;31mSyntaxError\u001b[0m\u001b[1;31m:\u001b[0m (unicode error) 'unicodeescape' codec can't decode bytes in position 3-4: truncated \\UXXXXXXXX escape\n"
     ]
    }
   ],
   "source": [
    "for i, (im_fn, ann_fn) in enumerate(zip(image_list, annot_list)):\n",
    "    \n",
    "    im = cv2.imread(os.path.join('\"C:\\Users\\DELL\\Desktop\\New folder (18)\\Minor_dataset\\Final_dataset\\imagesss\"', im_fn), 1)\n",
    "    ann_path = os.path.join('mask_jpg', ann_fn)\n",
    "    shape_dicts = get_poly(ann_path)\n",
    "    im_color = draw_multi_masks(im, shape_dicts)\n",
    "#     thresh = 128\n",
    "#     img_binary = cv2.threshold(im_color, thresh, 255, cv2.THRESH_BINARY)[1]\n",
    "    \n",
    "#     image_file = Image.open(\"convert_image.png\") # open colour image\n",
    "#     im_binary = im_color.convert('1') # convert image to black and white\n",
    "#     image_file.save('result.png')\n",
    "    cv2.imwrite(os.path.join(path , im_fn), im_color)\n",
    "    display(Image.fromarray(im_color))\n",
    "#     if i == 4:\n",
    "#         break"
   ]
  },
  {
   "cell_type": "code",
   "execution_count": 19,
   "metadata": {},
   "outputs": [],
   "source": [
    "def augment_poly(im_path, ann_path):\n",
    "    \n",
    "    im = cv2.imread(im_path, 1)\n",
    "    im = cv2.cvtColor(im, cv2.COLOR_BGR2RGB)\n",
    "    \n",
    "    with open(ann_path) as handle:\n",
    "        data = json.load(handle)\n",
    "    \n",
    "    shape_dicts = data['shapes']\n",
    "    points = []\n",
    "    aug_shape_dicts = []\n",
    "    i = 0\n",
    "    \n",
    "    for shape in shape_dicts:\n",
    "        \n",
    "        for pairs in shape['points']:\n",
    "            points.append(ia.Keypoint(x=pairs[0], y=pairs[1]))\n",
    "        \n",
    "        _d = {}\n",
    "        _d['label'] = shape['label']\n",
    "        _d['index'] = (i, i+len(shape['points']))\n",
    "        aug_shape_dicts.append(_d)\n",
    "\n",
    "        i += len(shape['points'])\n",
    "    \n",
    "    keypoints = ia.KeypointsOnImage(points, shape=(256,256,3))\n",
    "    \n",
    "    image_aug = seq_det.augment_images([im])[0]\n",
    "    keypoints_aug = seq_det.augment_keypoints([keypoints])[0]\n",
    "    \n",
    "    for shape in aug_shape_dicts:\n",
    "        start, end = shape['index']\n",
    "        aug_points = [[keypoint.x, keypoint.y] for keypoint in keypoints_aug.keypoints[start:end]]\n",
    "        shape['points'] = aug_points\n",
    "    \n",
    "    return image_aug, aug_shape_dicts"
   ]
  },
  {
   "cell_type": "code",
   "execution_count": 4,
   "metadata": {},
   "outputs": [
    {
     "ename": "NameError",
     "evalue": "name 'ia' is not defined",
     "output_type": "error",
     "traceback": [
      "\u001b[1;31m---------------------------------------------------------------------------\u001b[0m",
      "\u001b[1;31mNameError\u001b[0m                                 Traceback (most recent call last)",
      "\u001b[1;32m<ipython-input-4-00a4342757a6>\u001b[0m in \u001b[0;36m<module>\u001b[1;34m\u001b[0m\n\u001b[1;32m----> 1\u001b[1;33m \u001b[0mia\u001b[0m\u001b[1;33m.\u001b[0m\u001b[0mseed\u001b[0m\u001b[1;33m(\u001b[0m\u001b[1;36m1\u001b[0m\u001b[1;33m)\u001b[0m\u001b[1;33m\u001b[0m\u001b[1;33m\u001b[0m\u001b[0m\n\u001b[0m\u001b[0;32m      2\u001b[0m \u001b[1;33m\u001b[0m\u001b[0m\n\u001b[0;32m      3\u001b[0m seq = iaa.Sequential([\n\u001b[0;32m      4\u001b[0m \u001b[1;31m#     iaa.Fliplr(0.5)\u001b[0m\u001b[1;33m\u001b[0m\u001b[1;33m\u001b[0m\u001b[1;33m\u001b[0m\u001b[0m\n\u001b[0;32m      5\u001b[0m     \u001b[0miaa\u001b[0m\u001b[1;33m.\u001b[0m\u001b[0mMultiply\u001b[0m\u001b[1;33m(\u001b[0m\u001b[1;33m(\u001b[0m\u001b[1;36m1.1\u001b[0m\u001b[1;33m,\u001b[0m \u001b[1;36m1.3\u001b[0m\u001b[1;33m)\u001b[0m\u001b[1;33m)\u001b[0m\u001b[1;33m,\u001b[0m\u001b[1;33m\u001b[0m\u001b[1;33m\u001b[0m\u001b[0m\n",
      "\u001b[1;31mNameError\u001b[0m: name 'ia' is not defined"
     ]
    }
   ],
   "source": [
    "ia.seed(1)\n",
    "\n",
    "seq = iaa.Sequential([\n",
    "#     iaa.Fliplr(0.5)\n",
    "    iaa.Multiply((1.1, 1.3)),\n",
    "#     iaa.Affine(\n",
    "#         rotate=(-90, 90)\n",
    "#     ),\n",
    "    iaa.Sometimes(0.5,\n",
    "        iaa.GaussianBlur(sigma=(0, 10))\n",
    "    )\n",
    "], random_order=True)"
   ]
  },
  {
   "cell_type": "code",
   "execution_count": 5,
   "metadata": {},
   "outputs": [
    {
     "ename": "NameError",
     "evalue": "name 'seq' is not defined",
     "output_type": "error",
     "traceback": [
      "\u001b[1;31m---------------------------------------------------------------------------\u001b[0m",
      "\u001b[1;31mNameError\u001b[0m                                 Traceback (most recent call last)",
      "\u001b[1;32m<ipython-input-5-7ca535b0de1a>\u001b[0m in \u001b[0;36m<module>\u001b[1;34m\u001b[0m\n\u001b[1;32m----> 1\u001b[1;33m \u001b[0mseq_det\u001b[0m \u001b[1;33m=\u001b[0m \u001b[0mseq\u001b[0m\u001b[1;33m.\u001b[0m\u001b[0mto_deterministic\u001b[0m\u001b[1;33m(\u001b[0m\u001b[1;33m)\u001b[0m\u001b[1;33m\u001b[0m\u001b[1;33m\u001b[0m\u001b[0m\n\u001b[0m\u001b[0;32m      2\u001b[0m \u001b[0mim_path\u001b[0m \u001b[1;33m=\u001b[0m \u001b[0mos\u001b[0m\u001b[1;33m.\u001b[0m\u001b[0mpath\u001b[0m\u001b[1;33m.\u001b[0m\u001b[0mjoin\u001b[0m\u001b[1;33m(\u001b[0m\u001b[1;34m'hola'\u001b[0m\u001b[1;33m,\u001b[0m \u001b[1;34m'38.jpg'\u001b[0m\u001b[1;33m)\u001b[0m\u001b[1;33m\u001b[0m\u001b[1;33m\u001b[0m\u001b[0m\n\u001b[0;32m      3\u001b[0m \u001b[0mann_path\u001b[0m \u001b[1;33m=\u001b[0m \u001b[0mos\u001b[0m\u001b[1;33m.\u001b[0m\u001b[0mpath\u001b[0m\u001b[1;33m.\u001b[0m\u001b[0mjoin\u001b[0m\u001b[1;33m(\u001b[0m\u001b[1;34m'anola'\u001b[0m\u001b[1;33m,\u001b[0m \u001b[1;34m'38.json'\u001b[0m\u001b[1;33m)\u001b[0m\u001b[1;33m\u001b[0m\u001b[1;33m\u001b[0m\u001b[0m\n\u001b[0;32m      4\u001b[0m \u001b[1;33m\u001b[0m\u001b[0m\n\u001b[0;32m      5\u001b[0m \u001b[0mim_aug\u001b[0m\u001b[1;33m,\u001b[0m \u001b[0maug_shape_dicts\u001b[0m \u001b[1;33m=\u001b[0m \u001b[0maugment_poly\u001b[0m\u001b[1;33m(\u001b[0m\u001b[0mim_path\u001b[0m\u001b[1;33m,\u001b[0m \u001b[0mann_path\u001b[0m\u001b[1;33m)\u001b[0m\u001b[1;33m\u001b[0m\u001b[1;33m\u001b[0m\u001b[0m\n",
      "\u001b[1;31mNameError\u001b[0m: name 'seq' is not defined"
     ]
    }
   ],
   "source": [
    "seq_det = seq.to_deterministic()\n",
    "im_path = os.path.join('hola', '38.jpg')\n",
    "ann_path = os.path.join('anola', '38.json')\n",
    "\n",
    "im_aug, aug_shape_dicts = augment_poly(im_path, ann_path)\n",
    "aug_mask = create_binary_masks(im_aug, aug_shape_dicts)\n",
    "plot_pair((im_aug, aug_mask), gray=True)"
   ]
  },
  {
   "cell_type": "code",
   "execution_count": 6,
   "metadata": {
    "scrolled": false
   },
   "outputs": [
    {
     "ename": "NameError",
     "evalue": "name 'os' is not defined",
     "output_type": "error",
     "traceback": [
      "\u001b[1;31m---------------------------------------------------------------------------\u001b[0m",
      "\u001b[1;31mNameError\u001b[0m                                 Traceback (most recent call last)",
      "\u001b[1;32m<ipython-input-6-6abb90c8cb82>\u001b[0m in \u001b[0;36m<module>\u001b[1;34m\u001b[0m\n\u001b[1;32m----> 1\u001b[1;33m \u001b[0mimage_list\u001b[0m \u001b[1;33m=\u001b[0m \u001b[0msorted\u001b[0m\u001b[1;33m(\u001b[0m\u001b[0mos\u001b[0m\u001b[1;33m.\u001b[0m\u001b[0mlistdir\u001b[0m\u001b[1;33m(\u001b[0m\u001b[1;34m'images'\u001b[0m\u001b[1;33m)\u001b[0m\u001b[1;33m,\u001b[0m \u001b[0mkey\u001b[0m\u001b[1;33m=\u001b[0m\u001b[1;32mlambda\u001b[0m \u001b[0mx\u001b[0m\u001b[1;33m:\u001b[0m \u001b[0mint\u001b[0m\u001b[1;33m(\u001b[0m\u001b[0mx\u001b[0m\u001b[1;33m.\u001b[0m\u001b[0msplit\u001b[0m\u001b[1;33m(\u001b[0m\u001b[1;34m'.'\u001b[0m\u001b[1;33m)\u001b[0m\u001b[1;33m[\u001b[0m\u001b[1;36m0\u001b[0m\u001b[1;33m]\u001b[0m\u001b[1;33m)\u001b[0m\u001b[1;33m)\u001b[0m\u001b[1;33m\u001b[0m\u001b[1;33m\u001b[0m\u001b[0m\n\u001b[0m\u001b[0;32m      2\u001b[0m \u001b[0mannot_list\u001b[0m \u001b[1;33m=\u001b[0m \u001b[0msorted\u001b[0m\u001b[1;33m(\u001b[0m\u001b[0mos\u001b[0m\u001b[1;33m.\u001b[0m\u001b[0mlistdir\u001b[0m\u001b[1;33m(\u001b[0m\u001b[1;34m'annotated'\u001b[0m\u001b[1;33m)\u001b[0m\u001b[1;33m,\u001b[0m \u001b[0mkey\u001b[0m\u001b[1;33m=\u001b[0m\u001b[1;32mlambda\u001b[0m \u001b[0mx\u001b[0m\u001b[1;33m:\u001b[0m \u001b[0mint\u001b[0m\u001b[1;33m(\u001b[0m\u001b[0mx\u001b[0m\u001b[1;33m.\u001b[0m\u001b[0msplit\u001b[0m\u001b[1;33m(\u001b[0m\u001b[1;34m'.'\u001b[0m\u001b[1;33m)\u001b[0m\u001b[1;33m[\u001b[0m\u001b[1;36m0\u001b[0m\u001b[1;33m]\u001b[0m\u001b[1;33m)\u001b[0m\u001b[1;33m)\u001b[0m\u001b[1;33m\u001b[0m\u001b[1;33m\u001b[0m\u001b[0m\n\u001b[0;32m      3\u001b[0m \u001b[1;33m\u001b[0m\u001b[0m\n\u001b[0;32m      4\u001b[0m \u001b[1;32mfor\u001b[0m \u001b[0mi\u001b[0m\u001b[1;33m,\u001b[0m \u001b[1;33m(\u001b[0m\u001b[0mim_fn\u001b[0m\u001b[1;33m,\u001b[0m \u001b[0mann_fn\u001b[0m\u001b[1;33m)\u001b[0m \u001b[1;32min\u001b[0m \u001b[0menumerate\u001b[0m\u001b[1;33m(\u001b[0m\u001b[0mzip\u001b[0m\u001b[1;33m(\u001b[0m\u001b[0mimage_list\u001b[0m\u001b[1;33m,\u001b[0m \u001b[0mannot_list\u001b[0m\u001b[1;33m)\u001b[0m\u001b[1;33m)\u001b[0m\u001b[1;33m:\u001b[0m\u001b[1;33m\u001b[0m\u001b[1;33m\u001b[0m\u001b[0m\n\u001b[0;32m      5\u001b[0m \u001b[1;33m\u001b[0m\u001b[0m\n",
      "\u001b[1;31mNameError\u001b[0m: name 'os' is not defined"
     ]
    }
   ],
   "source": [
    "image_list = sorted(os.listdir('images'), key=lambda x: int(x.split('.')[0]))\n",
    "annot_list = sorted(os.listdir('annotated'), key=lambda x: int(x.split('.')[0]))\n",
    "\n",
    "for i, (im_fn, ann_fn) in enumerate(zip(image_list, annot_list)):\n",
    "    \n",
    "    seq_det = seq.to_deterministic()\n",
    "    im_path = os.path.join('images', im_fn)\n",
    "    ann_path = os.path.join('annotated', ann_fn)\n",
    "    im_aug, aug_shape_dicts = augment_poly(im_path, ann_path)\n",
    "    aug_mask = create_binary_masks(im_aug, aug_shape_dicts)\n",
    "    \n",
    "    im = cv2.imread(im_path, 1)\n",
    "    im_color = draw_multi_masks(im, aug_shape_dicts)\n",
    "    \n",
    "    plt.imshow(im_aug)\n",
    "    plt.show()\n",
    "    plot_pair((aug_mask, im_color), gray=True)\n",
    "    \n",
    "    if i == 4:\n",
    "        break"
   ]
  },
  {
   "cell_type": "code",
   "execution_count": null,
   "metadata": {},
   "outputs": [],
   "source": []
  }
 ],
 "metadata": {
  "kernelspec": {
   "display_name": "Python 3",
   "language": "python",
   "name": "python3"
  },
  "language_info": {
   "codemirror_mode": {
    "name": "ipython",
    "version": 3
   },
   "file_extension": ".py",
   "mimetype": "text/x-python",
   "name": "python",
   "nbconvert_exporter": "python",
   "pygments_lexer": "ipython3",
   "version": "3.9.1"
  }
 },
 "nbformat": 4,
 "nbformat_minor": 2
}
